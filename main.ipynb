{
 "cells": [
  {
   "cell_type": "markdown",
   "source": [
    "### Assignment 1"
   ],
   "metadata": {
    "collapsed": false
   },
   "id": "724f2c8829d7a828"
  },
  {
   "cell_type": "code",
   "outputs": [],
   "source": [
    "class MaxSizeList:\n",
    "    def __init__(self, size):\n",
    "        self.data = []\n",
    "        self.__size = size\n",
    "                \n",
    "    def push(self, value):\n",
    "        if len(self.data) < self.__size:\n",
    "            self.data.append(value)\n",
    "        else:\n",
    "            self.data.pop(0)\n",
    "            self.data.append(value)\n",
    "            \n",
    "    def get_list(self):\n",
    "        return self.data"
   ],
   "metadata": {
    "collapsed": false,
    "ExecuteTime": {
     "end_time": "2024-02-29T16:46:56.080756Z",
     "start_time": "2024-02-29T16:46:56.074212Z"
    }
   },
   "id": "988dd58788956f0f",
   "execution_count": 15
  },
  {
   "cell_type": "code",
   "outputs": [],
   "source": [
    "a = MaxSizeList(3)\n",
    "b = MaxSizeList(1)"
   ],
   "metadata": {
    "collapsed": false,
    "ExecuteTime": {
     "end_time": "2024-02-29T16:46:56.250875Z",
     "start_time": "2024-02-29T16:46:56.244616Z"
    }
   },
   "id": "ef24dd30050673c0",
   "execution_count": 16
  },
  {
   "cell_type": "code",
   "outputs": [],
   "source": [
    "a.push(\"hey\")\n",
    "a.push(\"hi\")\n",
    "a.push(\"let's\")\n",
    "a.push(\"go\")\n",
    "\n",
    "b.push(\"hey\")\n",
    "b.push(\"hi\")\n",
    "b.push(\"let's\")\n",
    "b.push(\"go\")"
   ],
   "metadata": {
    "collapsed": false,
    "ExecuteTime": {
     "end_time": "2024-02-29T16:46:56.434441Z",
     "start_time": "2024-02-29T16:46:56.425851Z"
    }
   },
   "id": "e1fa839123d16765",
   "execution_count": 17
  },
  {
   "cell_type": "code",
   "outputs": [],
   "source": [
    "print(a.get_list())\n",
    "print(b.get_list())"
   ],
   "metadata": {
    "collapsed": false
   },
   "id": "aedd174e5c78310c",
   "execution_count": null
  },
  {
   "cell_type": "markdown",
   "source": [
    "## Inheritance"
   ],
   "metadata": {
    "collapsed": false
   },
   "id": "cf1b8f757cc464e9"
  },
  {
   "cell_type": "code",
   "outputs": [],
   "source": [
    "class Animal:\n",
    "    def __init__(self, name):\n",
    "        self.name = name\n",
    "        \n",
    "    def eat(self, food):\n",
    "        print(f\"{self.name} is eating {food}\")\n",
    "        \n",
    "\n",
    "class Dog(Animal):\n",
    "    def fetch(self, thing):\n",
    "        print(f\"{self.name} goes after the {thing}\")\n",
    "        \n",
    "        \n",
    "class Cat(Animal):\n",
    "    def swat_string(self):\n",
    "        print(f\"{self.name} shreds the string!\")"
   ],
   "metadata": {
    "collapsed": false,
    "ExecuteTime": {
     "end_time": "2024-02-29T19:45:19.103460Z",
     "start_time": "2024-02-29T19:45:19.095823Z"
    }
   },
   "id": "4462dfcc72643907",
   "execution_count": 31
  },
  {
   "cell_type": "markdown",
   "source": [
    "## Polymorphism"
   ],
   "metadata": {
    "collapsed": false
   },
   "id": "cca995e0e664d25c"
  },
  {
   "cell_type": "code",
   "outputs": [],
   "source": [
    "class NewAnimal:\n",
    "    def __init__(self, name):\n",
    "        self.name = name\n",
    "        \n",
    "    def eat(self, food):\n",
    "        print(f\"{self.name} is eating {food}\")\n",
    "        \n",
    "\n",
    "class NewDog(Animal):\n",
    "    def __init__(self, name, breed):\n",
    "        super().__init__(name)\n",
    "        self.breed = breed\n",
    "    \n",
    "    def fetch(self, thing):\n",
    "        print(f\"{self.name} goes after the {thing}\")\n",
    "        \n",
    "    def show_affection(self):\n",
    "        print(f\"{self.name}, the {self.breed} wags tail\")\n",
    "        \n",
    "        \n",
    "class NewCat(Animal):\n",
    "    def swat_string(self):\n",
    "        print(f\"{self.name} shreds the string!\")\n",
    "        \n",
    "    def show_affection(self):\n",
    "        print(f\"{self.name} purrs\")"
   ],
   "metadata": {
    "collapsed": false,
    "ExecuteTime": {
     "end_time": "2024-02-29T19:52:46.121247Z",
     "start_time": "2024-02-29T19:52:46.112301Z"
    }
   },
   "id": "629581630404d480",
   "execution_count": 40
  },
  {
   "cell_type": "code",
   "outputs": [
    {
     "name": "stdout",
     "output_type": "stream",
     "text": [
      "Simba, the caucasian wags tail\n"
     ]
    }
   ],
   "source": [
    "d = NewDog(\"Simba\", \"caucasian\")\n",
    "d.show_affection()"
   ],
   "metadata": {
    "collapsed": false,
    "ExecuteTime": {
     "end_time": "2024-02-29T19:52:55.981242Z",
     "start_time": "2024-02-29T19:52:55.975387Z"
    }
   },
   "id": "15de5a70c40da99e",
   "execution_count": 42
  },
  {
   "cell_type": "code",
   "outputs": [
    {
     "name": "stdout",
     "output_type": "stream",
     "text": [
      "Pumba purrs\n"
     ]
    }
   ],
   "source": [
    "c = NewCat(\"Pumba\")\n",
    "c.show_affection()"
   ],
   "metadata": {
    "collapsed": false,
    "ExecuteTime": {
     "end_time": "2024-02-29T19:52:34.143480Z",
     "start_time": "2024-02-29T19:52:34.137755Z"
    }
   },
   "id": "f4e2a77b7b1f2ad6",
   "execution_count": 39
  },
  {
   "cell_type": "markdown",
   "source": [
    "## Multi Inheritance"
   ],
   "metadata": {
    "collapsed": false
   },
   "id": "bcb0e3be67358b72"
  },
  {
   "cell_type": "code",
   "outputs": [],
   "source": [
    "class A:\n",
    "    def dothis(self):\n",
    "        print(\"This is the A method\")\n",
    "    \n",
    "\n",
    "class B(A):\n",
    "    pass\n",
    "\n",
    "\n",
    "class C(A):\n",
    "    def dothis(self):\n",
    "        print(\"This is the C method\")\n",
    "        \n",
    "\n",
    "class D(B, C):\n",
    "    pass"
   ],
   "metadata": {
    "collapsed": false,
    "ExecuteTime": {
     "end_time": "2024-02-29T20:46:30.754123Z",
     "start_time": "2024-02-29T20:46:30.743744Z"
    }
   },
   "id": "c5a507f7d39ab31e",
   "execution_count": 43
  },
  {
   "cell_type": "code",
   "outputs": [
    {
     "data": {
      "text/plain": "[__main__.D, __main__.B, __main__.C, __main__.A, object]"
     },
     "execution_count": 47,
     "metadata": {},
     "output_type": "execute_result"
    }
   ],
   "source": [
    "D.mro()"
   ],
   "metadata": {
    "collapsed": false,
    "ExecuteTime": {
     "end_time": "2024-02-29T20:50:31.525897Z",
     "start_time": "2024-02-29T20:50:31.510316Z"
    }
   },
   "id": "ba2fd4308b3c9c7b",
   "execution_count": 47
  },
  {
   "cell_type": "markdown",
   "source": [
    "## Abstract Base Class"
   ],
   "metadata": {
    "collapsed": false
   },
   "id": "c7a7c7e133f7069c"
  },
  {
   "cell_type": "code",
   "outputs": [
    {
     "ename": "TypeError",
     "evalue": "Can't instantiate abstract class GetterSetter without an implementation for abstract methods 'get_val', 'set_val'",
     "output_type": "error",
     "traceback": [
      "\u001B[1;31m---------------------------------------------------------------------------\u001B[0m",
      "\u001B[1;31mTypeError\u001B[0m                                 Traceback (most recent call last)",
      "Cell \u001B[1;32mIn[4], line 28\u001B[0m\n\u001B[0;32m     24\u001B[0m     \u001B[38;5;28;01mdef\u001B[39;00m \u001B[38;5;21mget_val\u001B[39m(\u001B[38;5;28mself\u001B[39m):\n\u001B[0;32m     25\u001B[0m         \u001B[38;5;28;01mreturn\u001B[39;00m \u001B[38;5;28mself\u001B[39m\u001B[38;5;241m.\u001B[39mvalue\n\u001B[1;32m---> 28\u001B[0m c \u001B[38;5;241m=\u001B[39m \u001B[43mGetterSetter\u001B[49m\u001B[43m(\u001B[49m\u001B[43m)\u001B[49m \u001B[38;5;66;03m# Not possible\u001B[39;00m\n\u001B[0;32m     29\u001B[0m \u001B[38;5;28mprint\u001B[39m(c)\n",
      "\u001B[1;31mTypeError\u001B[0m: Can't instantiate abstract class GetterSetter without an implementation for abstract methods 'get_val', 'set_val'"
     ]
    }
   ],
   "source": [
    "from abc import ABC, abstractmethod\n",
    "import abc\n",
    "\n",
    "\n",
    "class GetterSetter(ABC):\n",
    "    __metaclass__ = abc.ABCMeta\n",
    "    \n",
    "    @abc.abstractmethod\n",
    "    def set_val(self, value):\n",
    "        \"\"\"Set a value in the instance\"\"\"\n",
    "        return \n",
    "    \n",
    "    @abc.abstractmethod\n",
    "    def get_val(self):\n",
    "        \"\"\"Get and return a value from the instance.\"\"\"\n",
    "        return\n",
    "    \n",
    "    \n",
    "class MyClass(GetterSetter):\n",
    "    \n",
    "    def set_val(self, value):\n",
    "        self.value = value\n",
    "        \n",
    "    def get_val(self):\n",
    "        return self.value\n",
    "    \n",
    "\n",
    "c = GetterSetter() # Not possible\n",
    "print(c)\n",
    "    "
   ],
   "metadata": {
    "collapsed": false,
    "ExecuteTime": {
     "end_time": "2024-03-02T22:13:00.268686Z",
     "start_time": "2024-03-02T22:13:00.245168Z"
    }
   },
   "id": "ea676122a30ff7d9",
   "execution_count": 4
  },
  {
   "cell_type": "markdown",
   "source": [
    "### More on Inheritance"
   ],
   "metadata": {
    "collapsed": false
   },
   "id": "2161fb5bc5df7021"
  },
  {
   "cell_type": "code",
   "outputs": [],
   "source": [
    "from abc import ABC, abstractmethod\n",
    "\n",
    "\n",
    "class GetSetParent(ABC):\n",
    "    __metaclass__ = abc.ABCMeta\n",
    "    \n",
    "    def __init__(self, value):\n",
    "        self.value = 0\n",
    "    \n",
    "    def set_value(self, value):\n",
    "        self.value = value\n",
    "        \n",
    "    def get_value(self):\n",
    "        return self.value\n",
    "    \n",
    "    @abstractmethod\n",
    "    def showdoc(self):\n",
    "        return \n",
    "    \n",
    "\n",
    "class GetSetInt(GetSetParent):\n",
    "    def set_value(self, value):\n",
    "        if not isinstance(value, int):\n",
    "            value = 0\n",
    "        super().set_value(value)\n",
    "        \n",
    "    def showdoc(self):\n",
    "        print(f\"GetSetInt object {id(self)}, only accepts integer values.\")\n",
    "        \n",
    "\n",
    "class GetSetList(GetSetParent):\n",
    "    def __init__(self, ):\n",
    "        super().__init__(value=0)\n",
    "        self.valuelist = [self.value]\n",
    "        \n",
    "    def get_value(self):\n",
    "        return self.valuelist[-1]\n",
    "    \n",
    "    def get_values(self):\n",
    "        return self.valuelist\n",
    "    \n",
    "    def set_value(self, value):\n",
    "        self.valuelist.append(value)\n",
    "        \n",
    "    def showdoc(self):\n",
    "        print(f\"GetSetList object, len {len(self.valuelist)} stores history of values set\")"
   ],
   "metadata": {
    "collapsed": false,
    "ExecuteTime": {
     "end_time": "2024-03-02T22:13:00.547444Z",
     "start_time": "2024-03-02T22:13:00.533472Z"
    }
   },
   "id": "778cbae24bd72961",
   "execution_count": 5
  },
  {
   "cell_type": "markdown",
   "source": [
    "### Assignment 2"
   ],
   "metadata": {
    "collapsed": false
   },
   "id": "25408d5803c1fc50"
  },
  {
   "cell_type": "code",
   "outputs": [],
   "source": [
    "import csv\n",
    "\n",
    "class LogFile:\n",
    "    def __init__(self, file):\n",
    "        self.file = file\n",
    "        \n",
    "    def write(self, text):\n",
    "        with open(self.file, 'w') as fh:\n",
    "            fh.write(text)\n",
    "            \n",
    "            \n",
    "class DelimFile:\n",
    "    def __init__(self, file):\n",
    "        self.file = file\n",
    "        \n",
    "    def write(self, text):\n",
    "        with open(self.file, 'w') as fh:\n",
    "            for i in text:\n",
    "                fh.write(f\"{i},\")"
   ],
   "metadata": {
    "collapsed": false,
    "ExecuteTime": {
     "end_time": "2024-03-02T23:01:29.626475Z",
     "start_time": "2024-03-02T23:01:29.618683Z"
    }
   },
   "id": "7be91f435e1e4966",
   "execution_count": 60
  },
  {
   "cell_type": "code",
   "outputs": [],
   "source": [
    "log = LogFile('log.txt')"
   ],
   "metadata": {
    "collapsed": false,
    "ExecuteTime": {
     "end_time": "2024-03-02T23:01:30.096911Z",
     "start_time": "2024-03-02T23:01:30.090401Z"
    }
   },
   "id": "d0465315eb119cbb",
   "execution_count": 61
  },
  {
   "cell_type": "code",
   "outputs": [],
   "source": [
    "log.write(\"This is a log message.\")"
   ],
   "metadata": {
    "collapsed": false,
    "ExecuteTime": {
     "end_time": "2024-03-02T23:01:30.355101Z",
     "start_time": "2024-03-02T23:01:30.348035Z"
    }
   },
   "id": "2656dc3d538ed3b",
   "execution_count": 62
  },
  {
   "cell_type": "code",
   "outputs": [],
   "source": [
    "delim = DelimFile(\"log.csv\")"
   ],
   "metadata": {
    "collapsed": false,
    "ExecuteTime": {
     "end_time": "2024-03-02T23:01:30.706103Z",
     "start_time": "2024-03-02T23:01:30.701307Z"
    }
   },
   "id": "ba13cb166e33ac2e",
   "execution_count": 63
  },
  {
   "cell_type": "code",
   "outputs": [],
   "source": [
    "delim.write(['1', '2', '3', '4'])"
   ],
   "metadata": {
    "collapsed": false,
    "ExecuteTime": {
     "end_time": "2024-03-02T23:01:31.570347Z",
     "start_time": "2024-03-02T23:01:31.561925Z"
    }
   },
   "id": "70912e5e7afe7105",
   "execution_count": 64
  },
  {
   "cell_type": "code",
   "outputs": [],
   "source": [],
   "metadata": {
    "collapsed": false
   },
   "id": "a1f9bb28761a6d69"
  }
 ],
 "metadata": {
  "kernelspec": {
   "display_name": "Python 3",
   "language": "python",
   "name": "python3"
  },
  "language_info": {
   "codemirror_mode": {
    "name": "ipython",
    "version": 2
   },
   "file_extension": ".py",
   "mimetype": "text/x-python",
   "name": "python",
   "nbconvert_exporter": "python",
   "pygments_lexer": "ipython2",
   "version": "2.7.6"
  }
 },
 "nbformat": 4,
 "nbformat_minor": 5
}
